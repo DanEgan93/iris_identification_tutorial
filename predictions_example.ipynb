{
 "cells": [
  {
   "cell_type": "code",
   "execution_count": 2,
   "metadata": {},
   "outputs": [],
   "source": [
    "from sklearn.linear_model import LogisticRegression\n",
    "from sklearn.datasets.samples_generator import make_blobs"
   ]
  },
  {
   "cell_type": "code",
   "execution_count": 14,
   "metadata": {},
   "outputs": [
    {
     "data": {
      "text/plain": [
       "LogisticRegression(C=1.0, class_weight=None, dual=False, fit_intercept=True,\n",
       "          intercept_scaling=1, max_iter=100, multi_class='ovr', n_jobs=1,\n",
       "          penalty='l2', random_state=None, solver='liblinear', tol=0.0001,\n",
       "          verbose=0, warm_start=False)"
      ]
     },
     "execution_count": 14,
     "metadata": {},
     "output_type": "execute_result"
    }
   ],
   "source": [
    "# Making predictions with scikit-learn\n",
    "#   Once you have chosen and fit a final model in scikit-learn\n",
    "#   you can use it to make predictions on new data instances\n",
    "\n",
    "# This next section will cover how to make classification and\n",
    "# regression predictions with a finialized machine learning\n",
    "# model in the sckit-learn python library\n",
    "\n",
    "# Before you can make predictions, you must train a final model \n",
    "# You may have used k-fold cross validation or train splits\n",
    "# of your data (see iris_ident.py.ipynb) these models have served\n",
    "# their purpose and can now be discarded \n",
    "# you must now train a final model on all your available data\n",
    "\n",
    "# how to predict with classification models\n",
    "#   The classification problems are those wehre the model learns\n",
    "#   a mapping between input feartures and an output feature that is\n",
    "#   a label such as 'spam' or 'not spam'\n",
    "\n",
    "# exmaple of training a final classification model\n",
    "\n",
    "# generate 2d classigication dataset\n",
    "x,y = make_blobs(n_samples=100, centers=2, n_features=2, random_state=1)\n",
    "#fit model\n",
    "model = LogisticRegression()\n",
    "model.fit(x,y)\n",
    "\n",
    "\n",
    "\n",
    "\n",
    "\n"
   ]
  },
  {
   "cell_type": "code",
   "execution_count": null,
   "metadata": {},
   "outputs": [],
   "source": []
  }
 ],
 "metadata": {
  "kernelspec": {
   "display_name": "Python 3",
   "language": "python",
   "name": "python3"
  },
  "language_info": {
   "codemirror_mode": {
    "name": "ipython",
    "version": 3
   },
   "file_extension": ".py",
   "mimetype": "text/x-python",
   "name": "python",
   "nbconvert_exporter": "python",
   "pygments_lexer": "ipython3",
   "version": "3.6.5"
  }
 },
 "nbformat": 4,
 "nbformat_minor": 2
}
